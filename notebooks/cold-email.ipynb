{
  "nbformat": 4,
  "nbformat_minor": 0,
  "metadata": {
    "colab": {
      "provenance": [],
      "authorship_tag": "ABX9TyMsfO8tCY9kaXqAOo2QyPig",
      "include_colab_link": true
    },
    "kernelspec": {
      "name": "python3",
      "display_name": "Python 3"
    },
    "language_info": {
      "name": "python"
    }
  },
  "cells": [
    {
      "cell_type": "markdown",
      "metadata": {
        "id": "view-in-github",
        "colab_type": "text"
      },
      "source": [
        "<a href=\"https://colab.research.google.com/github/rabbitmetrics/cold-email/blob/main/notebooks/cold-email.ipynb\" target=\"_parent\"><img src=\"https://colab.research.google.com/assets/colab-badge.svg\" alt=\"Open In Colab\"/></a>"
      ]
    },
    {
      "cell_type": "code",
      "execution_count": null,
      "metadata": {
        "id": "DwG0HGaxVeel"
      },
      "outputs": [],
      "source": [
        "# Import needed libraries and load API keys from .env file\n",
        "import os\n",
        "from dotenv import load_dotenv,find_dotenv\n",
        "load_dotenv(find_dotenv())\n",
        "\n",
        "from langchain.document_loaders.base import Document\n",
        "from langchain.utilities import ApifyWrapper"
      ]
    },
    {
      "cell_type": "code",
      "source": [
        "# Instantiate Apify\n",
        "apify = ApifyWrapper()"
      ],
      "metadata": {
        "id": "x7Y-5IhFV4sC"
      },
      "execution_count": null,
      "outputs": []
    },
    {
      "cell_type": "code",
      "source": [
        "# Define the input for the crawler. See the \"Input\" section of the Website Content Crawler on https://console.apify.com/actors for configuration options.\n",
        "crawl_input={\"htmlTransformer\": \"extractus\",\n",
        "           \"crawlerType\": \"cheerio\",\n",
        "           \"startUrls\": [{\"url\": \"https://www.your_leads_webpage_to_crawl.com\"}]\n",
        "          }"
      ],
      "metadata": {
        "id": "0RN1m260VzuP"
      },
      "execution_count": null,
      "outputs": []
    },
    {
      "cell_type": "code",
      "source": [
        "# Inspect the extracted docs\n",
        "docs=loader.load()"
      ],
      "metadata": {
        "id": "ap6SIpwJWFOi"
      },
      "execution_count": null,
      "outputs": []
    },
    {
      "cell_type": "code",
      "source": [
        "# Instantiate GPT-4 and define load_qa chain\n",
        "from langchain.chat_models import ChatOpenAI\n",
        "from langchain.chains.question_answering import load_qa_chain\n",
        "\n",
        "chat = ChatOpenAI(model_name=\"gpt-4\",temperature=0.3)\n",
        "chain = load_qa_chain(chat, chain_type=\"stuff\")"
      ],
      "metadata": {
        "id": "nwCd9Uf8WUNI"
      },
      "execution_count": null,
      "outputs": []
    },
    {
      "cell_type": "code",
      "source": [
        "# Your main query to the language model - modify to you needs\n",
        "q=\"\"\"\n",
        "Formulate a short 5-8 line email to John Doe pithcing lead generation for his agency. The email should \n",
        "make a reference to his work and give him a compliment.\"\"\""
      ],
      "metadata": {
        "id": "9SuqqAk8WX1N"
      },
      "execution_count": null,
      "outputs": []
    },
    {
      "cell_type": "code",
      "source": [
        "# The personalized email or paragraph you can send to Lemlist\n",
        "email=chain.run(input_documents=docs, question=q)\n",
        "print(email)"
      ],
      "metadata": {
        "id": "kR4fGAtXWcQU"
      },
      "execution_count": null,
      "outputs": []
    }
  ]
}